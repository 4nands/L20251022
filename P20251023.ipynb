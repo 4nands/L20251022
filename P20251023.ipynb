{
  "nbformat": 4,
  "nbformat_minor": 0,
  "metadata": {
    "colab": {
      "provenance": [],
      "authorship_tag": "ABX9TyOEadDh8V2AtbHIuScU2JLT",
      "include_colab_link": true
    },
    "kernelspec": {
      "name": "python3",
      "display_name": "Python 3"
    },
    "language_info": {
      "name": "python"
    }
  },
  "cells": [
    {
      "cell_type": "markdown",
      "metadata": {
        "id": "view-in-github",
        "colab_type": "text"
      },
      "source": [
        "<a href=\"https://colab.research.google.com/github/4nands/L20251022/blob/main/P20251023.ipynb\" target=\"_parent\"><img src=\"https://colab.research.google.com/assets/colab-badge.svg\" alt=\"Open In Colab\"/></a>"
      ]
    },
    {
      "cell_type": "code",
      "execution_count": null,
      "metadata": {
        "id": "rdCA97VPxE3i",
        "colab": {
          "base_uri": "https://localhost:8080/"
        },
        "outputId": "2e94f7b9-5c4d-44b1-fa38-1d9eeba07bd8"
      },
      "outputs": [
        {
          "output_type": "stream",
          "name": "stdout",
          "text": [
            "[2 3 4]\n"
          ]
        }
      ],
      "source": [
        "import numpy as np\n",
        "\n",
        "x = np.array([1,2,3])\n"
      ]
    },
    {
      "cell_type": "code",
      "source": [
        "import numpy as np\n",
        "#Perceptoron\n",
        "\n",
        "x = np.array([[0,0],[0,1],[1,0],[1,1]])\n",
        "y = np.array([0,1,1,1])\n",
        "\n",
        "w = np.array([0.5,0.5])\n",
        "b = -0.3\n",
        "\n",
        "z = x @ w + b\n",
        "y = (z>0)*1\n",
        "print(y)\n",
        "\n",
        "\n"
      ],
      "metadata": {
        "colab": {
          "base_uri": "https://localhost:8080/"
        },
        "id": "C4L0cwuP0S2Z",
        "outputId": "18fe261f-bb9b-45b0-a974-5992652a1d21"
      },
      "execution_count": null,
      "outputs": [
        {
          "output_type": "stream",
          "name": "stdout",
          "text": [
            "[0 1 1 1]\n"
          ]
        }
      ]
    },
    {
      "cell_type": "code",
      "source": [
        "\n",
        "a = [1.0,1.0]\n",
        "\n",
        "if a == [0,0]:\n",
        "  print(0)\n",
        "elif a==[0,1]:\n",
        "  print(0)\n",
        "elif a==[1,0]:\n",
        "  print(0)\n",
        "elif a==[1,1]:\n",
        "  print(1)"
      ],
      "metadata": {
        "id": "hq1FSGc00TuB"
      },
      "execution_count": null,
      "outputs": []
    }
  ]
}