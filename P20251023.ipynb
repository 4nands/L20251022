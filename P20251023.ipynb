{
  "nbformat": 4,
  "nbformat_minor": 0,
  "metadata": {
    "colab": {
      "provenance": [],
      "authorship_tag": "ABX9TyN9ISzJJYZhBbZffbwu5kCg",
      "include_colab_link": true
    },
    "kernelspec": {
      "name": "python3",
      "display_name": "Python 3"
    },
    "language_info": {
      "name": "python"
    }
  },
  "cells": [
    {
      "cell_type": "markdown",
      "metadata": {
        "id": "view-in-github",
        "colab_type": "text"
      },
      "source": [
        "<a href=\"https://colab.research.google.com/github/4nands/L20251022/blob/main/P20251023.ipynb\" target=\"_parent\"><img src=\"https://colab.research.google.com/assets/colab-badge.svg\" alt=\"Open In Colab\"/></a>"
      ]
    },
    {
      "cell_type": "code",
      "execution_count": 33,
      "metadata": {
        "colab": {
          "base_uri": "https://localhost:8080/"
        },
        "id": "vnV11W675B9h",
        "outputId": "baeaf512-bab8-4e64-d7da-37230d44e8c2"
      },
      "outputs": [
        {
          "output_type": "stream",
          "name": "stdout",
          "text": [
            "とことこ\n",
            "わんわん\n"
          ]
        }
      ],
      "source": [
        "class Dog:\n",
        "\n",
        "  def __init__(self,name):\n",
        "    self.name = name\n",
        "\n",
        "  def walk(self):\n",
        "\n",
        "    print('とことこ')\n",
        "\n",
        "  def naku(self,x='わんわん'):\n",
        "\n",
        "    print(x)\n",
        "\n",
        "inu1 = Dog('ハチ')\n",
        "inu2 = Dog('ポチ')\n",
        "\n",
        "inu1.walk()\n",
        "inu2.naku()\n",
        "\n"
      ]
    },
    {
      "cell_type": "code",
      "source": [
        "import numpy as np\n",
        "\n",
        "class Perceptron:\n",
        "\n",
        "  def __init__(self):\n",
        "\n",
        "    self.W = np.random.randn(2,1)\n",
        "    self.b = 0\n",
        "\n",
        "  def forward(self,x):\n",
        "\n",
        "    z = x @ self.W + self.b\n",
        "\n",
        "    return (z>1)*1\n",
        "\n",
        "x = np.array([[0,0],[0,1],[1,0],[1,1]])\n",
        "y = np.array([0,0,0,1]).reshape(4,1)\n",
        "\n",
        "ppn = Perceptron()\n",
        "out = ppn.forward(x)\n",
        "out.flatten()\n"
      ],
      "metadata": {
        "colab": {
          "base_uri": "https://localhost:8080/"
        },
        "id": "TMVdr-TN-dfF",
        "outputId": "c6a36ac1-41df-45f4-f86f-d343e65cf1db"
      },
      "execution_count": 57,
      "outputs": [
        {
          "output_type": "execute_result",
          "data": {
            "text/plain": [
              "array([0, 0, 0, 0])"
            ]
          },
          "metadata": {},
          "execution_count": 57
        }
      ]
    }
  ]
}