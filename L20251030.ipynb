{
  "nbformat": 4,
  "nbformat_minor": 0,
  "metadata": {
    "colab": {
      "provenance": [],
      "authorship_tag": "ABX9TyO9oEUxkKNozzNjYae7sLd8",
      "include_colab_link": true
    },
    "kernelspec": {
      "name": "python3",
      "display_name": "Python 3"
    },
    "language_info": {
      "name": "python"
    }
  },
  "cells": [
    {
      "cell_type": "markdown",
      "metadata": {
        "id": "view-in-github",
        "colab_type": "text"
      },
      "source": [
        "<a href=\"https://colab.research.google.com/github/4nands/L20251022/blob/main/L20251030.ipynb\" target=\"_parent\"><img src=\"https://colab.research.google.com/assets/colab-badge.svg\" alt=\"Open In Colab\"/></a>"
      ]
    },
    {
      "cell_type": "code",
      "execution_count": 28,
      "metadata": {
        "colab": {
          "base_uri": "https://localhost:8080/"
        },
        "id": "qm1iTtNO7VHU",
        "outputId": "db288580-5c72-4353-9f52-4d5b56e12231"
      },
      "outputs": [
        {
          "output_type": "stream",
          "name": "stdout",
          "text": [
            "[1 1 1 1]\n"
          ]
        }
      ],
      "source": [
        "import numpy as np\n",
        "import matplotlib.pyplot as plt\n",
        "\n",
        "def onehot(x):\n",
        "\n",
        "  k=np.max(x)+1\n",
        "  y = np.identity(k)\n",
        "\n",
        "  return y[x]\n",
        "\n",
        "def softmax(x):\n",
        "\n",
        "  c = np.max(x,axis=-1,keepdims=True)\n",
        "  e = np.exp(x-c)\n",
        "  z = np.sum(e,axis=-1,keepdims=True)\n",
        "\n",
        "  return e/z\n",
        "\n",
        "\n",
        "class Sigmoid:\n",
        "\n",
        "  def __init__(self):\n",
        "\n",
        "    self.out = None\n",
        "\n",
        "  def __call__(self,x):\n",
        "\n",
        "    y = 1/(1+np.exp(-x))\n",
        "    self.out = y\n",
        "\n",
        "    return y\n",
        "\n",
        "  def backward(self,dout):\n",
        "\n",
        "    return self.out * (1-self.out)\n",
        "\n",
        "class Linear:\n",
        "\n",
        "  def __init__(self,d_in,d_out):\n",
        "\n",
        "    self.W = np.random.randn(d_in,d_out)\n",
        "    self.b = np.zeros(d_out)\n",
        "\n",
        "    self.dW = np.zeros_like(self.W)\n",
        "    self.db = np.zeros_like(self.b)\n",
        "\n",
        "    self.inputs = None\n",
        "\n",
        "  def __call__(self,x):\n",
        "\n",
        "    self.inputs = x\n",
        "\n",
        "    y = x @ self.W + self.b\n",
        "\n",
        "    return y\n",
        "\n",
        "\n",
        "  def backward(self,dout):\n",
        "\n",
        "    self.dW = self.inputs.T @ dout\n",
        "    self.db = np.sum(dout)\n",
        "\n",
        "    return dout @ self.W.T\n",
        "\n",
        "  def optimizer(self,lr=0.1):\n",
        "\n",
        "    self.W -= lr * self.dW\n",
        "    self.b -= lr * self.db\n",
        "\n",
        "\n",
        "class MLP:\n",
        "\n",
        "  def __init__(self,d_in,d_h,d_out):\n",
        "\n",
        "    self.l1 = Linear(d_in,d_h)\n",
        "    self.a = Sigmoid()\n",
        "    self.l2 = Linear(d_h,d_out)\n",
        "\n",
        "  def __call__(self,x):\n",
        "\n",
        "    x = self.l1(x)\n",
        "    x = self.a(x)\n",
        "    x = self.l2(x)\n",
        "\n",
        "    return x\n",
        "\n",
        "  def pred(self,x):\n",
        "\n",
        "    out = self(x)\n",
        "\n",
        "    return np.argmax(out,axis=-1)\n",
        "\n",
        "\n",
        "x = np.array([[0,0],[0,1],[1,0],[1,1]])\n",
        "y = np.array([0,1,2,3])\n",
        "\n",
        "y = onehot(y)\n",
        "\n",
        "d_in = x.shape[1]\n",
        "d_h = 4*d_in\n",
        "d_out = y.shape[1]\n",
        "\n",
        "model = MLP(d_in,d_h,d_out)\n",
        "pred = model.pred(x)\n",
        "print(pred)\n",
        "\n"
      ]
    },
    {
      "cell_type": "code",
      "source": [
        "x = np.array([[10,20,30],[-5,6,7],[0.1,100,0.5]])\n",
        "print(x)\n",
        "c = np.max(x,axis=-1,keepdims=True)\n",
        "e = np.exp(x-c)\n",
        "z = np.sum(e,axis=-1,keepdims=True)\n",
        "\n",
        "out = e/z\n"
      ],
      "metadata": {
        "colab": {
          "base_uri": "https://localhost:8080/"
        },
        "id": "yjQZT38K8-Vh",
        "outputId": "4a3d3c36-0222-4bdb-fcee-ec156bfa1138"
      },
      "execution_count": 22,
      "outputs": [
        {
          "output_type": "stream",
          "name": "stdout",
          "text": [
            "[[ 10.   20.   30. ]\n",
            " [ -5.    6.    7. ]\n",
            " [  0.1 100.    0.5]]\n",
            "[[ 10.   20.   30. ]\n",
            " [ -5.    6.    7. ]\n",
            " [  0.1 100.    0.5]]\n",
            "[[1.0000454 ]\n",
            " [1.36788559]\n",
            " [1.        ]]\n",
            "[[2.06106005e-09 4.53978686e-05 9.99954600e-01]\n",
            " [4.49175897e-06 2.68940213e-01 7.31055295e-01]\n",
            " [4.11131978e-44 1.00000000e+00 6.13336839e-44]]\n"
          ]
        }
      ]
    },
    {
      "cell_type": "code",
      "source": [
        "x = np.array([[1,2,3],[-2,6,7],[5,4,3]])\n",
        "print(np.max(x,axis=-1))\n",
        "print(np.argmax(x,axis=-1))\n"
      ],
      "metadata": {
        "colab": {
          "base_uri": "https://localhost:8080/"
        },
        "id": "0CQQrCEFBDq3",
        "outputId": "e62f5434-fb34-43d3-9fae-662286fb1198"
      },
      "execution_count": 27,
      "outputs": [
        {
          "output_type": "stream",
          "name": "stdout",
          "text": [
            "[3 7 5]\n",
            "[2 2 0]\n"
          ]
        }
      ]
    }
  ]
}